{
 "cells": [
  {
   "cell_type": "code",
   "execution_count": 1,
   "id": "172849a8-8561-4cb1-8a9e-87223f6935dd",
   "metadata": {
    "tags": []
   },
   "outputs": [
    {
     "name": "stdout",
     "output_type": "stream",
     "text": [
      "WARNING:tensorflow:From C:\\Users\\gouar\\AppData\\Local\\Programs\\Python\\Python311\\Lib\\site-packages\\keras\\src\\losses.py:2976: The name tf.losses.sparse_softmax_cross_entropy is deprecated. Please use tf.compat.v1.losses.sparse_softmax_cross_entropy instead.\n",
      "\n",
      "2.15.0\n"
     ]
    }
   ],
   "source": [
    "#Import Tensorflow\n",
    "import tensorflow as tf\n",
    "print(tf.__version__)"
   ]
  },
  {
   "cell_type": "code",
   "execution_count": 2,
   "id": "11c9ffad-56aa-41a6-b458-0d6fc0e4f3e4",
   "metadata": {
    "tags": []
   },
   "outputs": [
    {
     "data": {
      "text/plain": [
       "<tf.Tensor: shape=(), dtype=int32, numpy=7>"
      ]
     },
     "execution_count": 2,
     "metadata": {},
     "output_type": "execute_result"
    }
   ],
   "source": [
    "#create tensors with tf.constant()\n",
    "scalar = tf.constant(7)\n",
    "scalar"
   ]
  },
  {
   "cell_type": "code",
   "execution_count": 3,
   "id": "ba1fe9b1-6183-4b73-acd2-5a7d0fadd5aa",
   "metadata": {
    "tags": []
   },
   "outputs": [
    {
     "data": {
      "text/plain": [
       "<tf.Tensor: shape=(6,), dtype=int32, numpy=array([1, 2, 3, 4, 5, 6])>"
      ]
     },
     "execution_count": 3,
     "metadata": {},
     "output_type": "execute_result"
    }
   ],
   "source": [
    "vector = tf.constant([1,2,3,4,5,6])\n",
    "vector"
   ]
  },
  {
   "cell_type": "code",
   "execution_count": 4,
   "id": "8b7cfe06-47d7-46f2-9dde-8ab299218d48",
   "metadata": {
    "tags": []
   },
   "outputs": [
    {
     "data": {
      "text/plain": [
       "0"
      ]
     },
     "execution_count": 4,
     "metadata": {},
     "output_type": "execute_result"
    }
   ],
   "source": [
    "#check the number of dimensions of a tensor\n",
    "scalar.ndim"
   ]
  },
  {
   "cell_type": "code",
   "execution_count": 5,
   "id": "a9f6ea3d-989c-4243-b09a-7289de6701ba",
   "metadata": {
    "tags": []
   },
   "outputs": [
    {
     "data": {
      "text/plain": [
       "1"
      ]
     },
     "execution_count": 5,
     "metadata": {},
     "output_type": "execute_result"
    }
   ],
   "source": [
    "vector.ndim"
   ]
  },
  {
   "cell_type": "code",
   "execution_count": 6,
   "id": "660cb5e9-6399-41fc-850e-fc50a7a35559",
   "metadata": {
    "tags": []
   },
   "outputs": [
    {
     "data": {
      "text/plain": [
       "<tf.Tensor: shape=(2, 2), dtype=int32, numpy=\n",
       "array([[10, 17],\n",
       "       [ 7, 10]])>"
      ]
     },
     "execution_count": 6,
     "metadata": {},
     "output_type": "execute_result"
    }
   ],
   "source": [
    "#create a matrix (has more than 1 dimensions)\n",
    "matrix = tf.constant([[10,17],\n",
    "                     [7,10]])\n",
    "matrix"
   ]
  },
  {
   "cell_type": "code",
   "execution_count": 7,
   "id": "4948e2d7-39c3-4aef-88cc-9e9869293d36",
   "metadata": {
    "tags": []
   },
   "outputs": [
    {
     "data": {
      "text/plain": [
       "2"
      ]
     },
     "execution_count": 7,
     "metadata": {},
     "output_type": "execute_result"
    }
   ],
   "source": [
    "matrix.ndim"
   ]
  },
  {
   "cell_type": "code",
   "execution_count": 8,
   "id": "cff9c53c-d4b2-4ef0-826c-ef3b89aa8a92",
   "metadata": {
    "tags": []
   },
   "outputs": [
    {
     "data": {
      "text/plain": [
       "<tf.Tensor: shape=(2, 3), dtype=float16, numpy=\n",
       "array([[3.5, 6.7, 4.3],\n",
       "       [3.1, 6.8, 9. ]], dtype=float16)>"
      ]
     },
     "execution_count": 8,
     "metadata": {},
     "output_type": "execute_result"
    }
   ],
   "source": [
    "#create a another matrix\n",
    "another_matrix = tf.constant([[3.5,6.7,4.3],\n",
    "                              [3.1,6.8,9.0]], dtype = tf.float16)\n",
    "another_matrix"
   ]
  },
  {
   "cell_type": "code",
   "execution_count": 9,
   "id": "bd0e7e1f-46de-43d6-acb5-e63d71e732e8",
   "metadata": {
    "tags": []
   },
   "outputs": [
    {
     "data": {
      "text/plain": [
       "2"
      ]
     },
     "execution_count": 9,
     "metadata": {},
     "output_type": "execute_result"
    }
   ],
   "source": [
    "another_matrix.ndim"
   ]
  },
  {
   "cell_type": "code",
   "execution_count": 10,
   "id": "09a4b6a9-d23b-4649-8c87-808828fc8d8c",
   "metadata": {
    "tags": []
   },
   "outputs": [
    {
     "data": {
      "text/plain": [
       "<tf.Tensor: shape=(3, 2, 3), dtype=int32, numpy=\n",
       "array([[[ 1,  2,  3],\n",
       "        [ 4,  5,  6]],\n",
       "\n",
       "       [[ 7,  8,  9],\n",
       "        [10, 11, 12]],\n",
       "\n",
       "       [[13, 14, 15],\n",
       "        [16, 17, 18]]])>"
      ]
     },
     "execution_count": 10,
     "metadata": {},
     "output_type": "execute_result"
    }
   ],
   "source": [
    "#create a tensor\n",
    "tensor = tf.constant([[[1,2,3],\n",
    "                      [4,5,6]],\n",
    "                      [[7,8,9],\n",
    "                      [10,11,12]],\n",
    "                      [[13,14,15],\n",
    "                       [16,17,18]]])\n",
    "tensor"
   ]
  },
  {
   "cell_type": "code",
   "execution_count": 11,
   "id": "a4ddd58e-585b-44e2-bd2c-7291bb5bbecc",
   "metadata": {
    "tags": []
   },
   "outputs": [
    {
     "data": {
      "text/plain": [
       "3"
      ]
     },
     "execution_count": 11,
     "metadata": {},
     "output_type": "execute_result"
    }
   ],
   "source": [
    "tensor.ndim"
   ]
  },
  {
   "cell_type": "markdown",
   "id": "75e8ad56-27ea-4f8b-beba-4e3560af1527",
   "metadata": {},
   "source": [
    "* Scalar : a single number\n",
    "* Vector : a numbr with direction\n",
    "* Matrix : a 2 - dimensional array of numbers\n",
    "* Tensor : an n-dimensional array of numbers"
   ]
  },
  {
   "cell_type": "code",
   "execution_count": 12,
   "id": "05c77570-b740-4e3a-b33b-37539aec45ca",
   "metadata": {
    "tags": []
   },
   "outputs": [
    {
     "data": {
      "text/plain": [
       "<tf.Variable 'UnreadVariable' shape=<unknown> dtype=float32, numpy=array([[1.]], dtype=float32)>"
      ]
     },
     "execution_count": 12,
     "metadata": {},
     "output_type": "execute_result"
    }
   ],
   "source": [
    "v = tf.Variable(1., shape=tf.TensorShape(None))\n",
    "v.assign([[1.]])"
   ]
  },
  {
   "cell_type": "code",
   "execution_count": 13,
   "id": "40312713-ad48-459f-abc8-8ae25f44835e",
   "metadata": {
    "tags": []
   },
   "outputs": [
    {
     "data": {
      "text/plain": [
       "<tf.Tensor: shape=(2, 2), dtype=float32, numpy=\n",
       "array([[3., 4.],\n",
       "       [6., 8.]], dtype=float32)>"
      ]
     },
     "execution_count": 13,
     "metadata": {},
     "output_type": "execute_result"
    }
   ],
   "source": [
    "w = tf.Variable([[1.],[2.]])\n",
    "x = tf.constant([[3.,4.]])\n",
    "tf.matmul(w,x)"
   ]
  },
  {
   "cell_type": "code",
   "execution_count": 14,
   "id": "d47352bc-b1cb-4eee-98ee-371ec8a41030",
   "metadata": {
    "tags": []
   },
   "outputs": [
    {
     "data": {
      "text/plain": [
       "(<tf.Variable 'Variable:0' shape=(5,) dtype=int32, numpy=array([2, 3, 4, 5, 6])>,\n",
       " <tf.Tensor: shape=(3,), dtype=int32, numpy=array([3, 5, 6])>)"
      ]
     },
     "execution_count": 14,
     "metadata": {},
     "output_type": "execute_result"
    }
   ],
   "source": [
    "changeable_tensor = tf.Variable([2,3,4,5,6])\n",
    "unchangeable_tensor = tf.constant([3,5,6])\n",
    "changeable_tensor,unchangeable_tensor"
   ]
  },
  {
   "cell_type": "code",
   "execution_count": 15,
   "id": "a153364f-5906-4c2e-8b6b-f47f21c546a1",
   "metadata": {
    "tags": []
   },
   "outputs": [
    {
     "data": {
      "text/plain": [
       "<tf.Variable 'Variable:0' shape=(5,) dtype=int32, numpy=array([1, 3, 4, 5, 6])>"
      ]
     },
     "execution_count": 15,
     "metadata": {},
     "output_type": "execute_result"
    }
   ],
   "source": [
    "changeable_tensor[0].assign(1)   #trying to reassign the values of the tensor\n",
    "changeable_tensor"
   ]
  },
  {
   "cell_type": "code",
   "execution_count": 16,
   "id": "4a863e44-912e-49ab-b0de-34c64dcf8909",
   "metadata": {
    "tags": []
   },
   "outputs": [
    {
     "data": {
      "text/plain": [
       "(<tf.Tensor: shape=(3, 2), dtype=float32, numpy=\n",
       " array([[-0.7565803 , -0.06854702],\n",
       "        [ 0.07595026, -1.2573844 ],\n",
       "        [-0.23193763, -1.8107855 ]], dtype=float32)>,\n",
       " <tf.Tensor: shape=(3, 2), dtype=float32, numpy=\n",
       " array([[-0.7565803 , -0.06854702],\n",
       "        [ 0.07595026, -1.2573844 ],\n",
       "        [-0.23193763, -1.8107855 ]], dtype=float32)>,\n",
       " <tf.Tensor: shape=(3, 2), dtype=bool, numpy=\n",
       " array([[ True,  True],\n",
       "        [ True,  True],\n",
       "        [ True,  True]])>)"
      ]
     },
     "execution_count": 16,
     "metadata": {},
     "output_type": "execute_result"
    }
   ],
   "source": [
    "#creating a random tensors\n",
    "random_1 = tf.random.Generator.from_seed(42)  #we set seed for reproducibility\n",
    "random_1 = random_1.normal(shape=(3,2))\n",
    "random_2 = tf.random.Generator.from_seed(42)\n",
    "random_2 = random_2.normal(shape=(3,2))\n",
    "\n",
    "random_1, random_2, random_1 == random_2"
   ]
  },
  {
   "cell_type": "code",
   "execution_count": 17,
   "id": "5178dd5f-a93c-40c1-9719-9fa12bb657e8",
   "metadata": {},
   "outputs": [
    {
     "data": {
      "text/plain": [
       "<tf.Tensor: shape=(3, 2), dtype=float32, numpy=\n",
       "array([[-0.23193763, -1.8107855 ],\n",
       "       [ 0.07595026, -1.2573844 ],\n",
       "       [-0.7565803 , -0.06854702]], dtype=float32)>"
      ]
     },
     "execution_count": 17,
     "metadata": {},
     "output_type": "execute_result"
    }
   ],
   "source": [
    "#shuffle the order of elements in the tensor\n",
    "tf.random.shuffle(random_1, seed = 42)"
   ]
  },
  {
   "cell_type": "code",
   "execution_count": 18,
   "id": "c7341280-5a69-40b6-8170-fcef7e85565b",
   "metadata": {
    "tags": []
   },
   "outputs": [
    {
     "name": "stdout",
     "output_type": "stream",
     "text": [
      "tf.Tensor(\n",
      "[[-0.29604465 -0.21134205]\n",
      " [ 0.01063002  1.5165398 ]\n",
      " [ 0.27305737 -0.29925638]], shape=(3, 2), dtype=float32)\n"
     ]
    }
   ],
   "source": [
    "ans = tf.random.Generator.from_seed(10)\n",
    "print(ans.normal(shape=[3,2]))"
   ]
  },
  {
   "cell_type": "code",
   "execution_count": 19,
   "id": "9720a268-9df1-41ac-b09d-f30775dbeb08",
   "metadata": {
    "tags": []
   },
   "outputs": [
    {
     "data": {
      "text/plain": [
       "<tf.Tensor: shape=(4,), dtype=int32, numpy=array([8, 4, 2, 6])>"
      ]
     },
     "execution_count": 19,
     "metadata": {},
     "output_type": "execute_result"
    }
   ],
   "source": [
    "a = tf.constant([2,4,6,8])\n",
    "tf.random.set_seed(10)\n",
    "tf.random.shuffle(a, seed = 10)"
   ]
  },
  {
   "cell_type": "code",
   "execution_count": 20,
   "id": "45ab68b0-cf33-455e-8bd4-104671c15066",
   "metadata": {
    "tags": []
   },
   "outputs": [
    {
     "data": {
      "text/plain": [
       "<tf.Tensor: shape=(3, 4), dtype=float32, numpy=\n",
       "array([[0., 0., 0., 0.],\n",
       "       [0., 0., 0., 0.],\n",
       "       [0., 0., 0., 0.]], dtype=float32)>"
      ]
     },
     "execution_count": 20,
     "metadata": {},
     "output_type": "execute_result"
    }
   ],
   "source": [
    "#create a tensor of all zeros\n",
    "tf.zeros(shape=(3,4))"
   ]
  },
  {
   "cell_type": "code",
   "execution_count": 21,
   "id": "28f6627c-9db3-4819-99b1-e55f912e3401",
   "metadata": {
    "tags": []
   },
   "outputs": [
    {
     "data": {
      "text/plain": [
       "array([ 1,  2,  3,  4,  5,  6,  7,  8,  9, 10, 11, 12, 13, 14, 15, 16, 17,\n",
       "       18, 19, 20, 21, 22, 23, 24], dtype=int64)"
      ]
     },
     "execution_count": 21,
     "metadata": {},
     "output_type": "execute_result"
    }
   ],
   "source": [
    "#converting numpy array into tensors\n",
    "import numpy as np\n",
    "numpy_A = np.arange(1,25,dtype='int64')\n",
    "numpy_A"
   ]
  },
  {
   "cell_type": "code",
   "execution_count": 22,
   "id": "6945a5fc-a69e-43a5-bdb6-726a50c732eb",
   "metadata": {
    "tags": []
   },
   "outputs": [
    {
     "data": {
      "text/plain": [
       "(<tf.Tensor: shape=(24,), dtype=int64, numpy=\n",
       " array([ 1,  2,  3,  4,  5,  6,  7,  8,  9, 10, 11, 12, 13, 14, 15, 16, 17,\n",
       "        18, 19, 20, 21, 22, 23, 24], dtype=int64)>,\n",
       " <tf.Tensor: shape=(3, 8), dtype=int64, numpy=\n",
       " array([[ 1,  2,  3,  4,  5,  6,  7,  8],\n",
       "        [ 9, 10, 11, 12, 13, 14, 15, 16],\n",
       "        [17, 18, 19, 20, 21, 22, 23, 24]], dtype=int64)>)"
      ]
     },
     "execution_count": 22,
     "metadata": {},
     "output_type": "execute_result"
    }
   ],
   "source": [
    "A = tf.constant(numpy_A)\n",
    "B = tf.constant(numpy_A, shape=(3,8))\n",
    "A, B"
   ]
  },
  {
   "cell_type": "code",
   "execution_count": 23,
   "id": "3a454b7a-4f00-4bac-846b-f31646288a0c",
   "metadata": {
    "tags": []
   },
   "outputs": [
    {
     "data": {
      "text/plain": [
       "<tf.Tensor: shape=(), dtype=int32, numpy=24>"
      ]
     },
     "execution_count": 23,
     "metadata": {},
     "output_type": "execute_result"
    }
   ],
   "source": [
    "tf.size(B)"
   ]
  },
  {
   "cell_type": "code",
   "execution_count": 24,
   "id": "b5313c7d-f4ee-4c60-962d-8fdaa55ebc0e",
   "metadata": {
    "tags": []
   },
   "outputs": [
    {
     "name": "stdout",
     "output_type": "stream",
     "text": [
      "Datatype of every element:  <dtype: 'int64'>\n",
      "Number of dimensions (rank):  2\n",
      "Shape of tensor:  (3, 8)\n",
      "Elements along the 0 axis:  3\n",
      "Elements along the last axis:  8\n",
      "Total number of elements in our tensor:  24\n"
     ]
    }
   ],
   "source": [
    "print(\"Datatype of every element: \", B.dtype)\n",
    "print(\"Number of dimensions (rank): \", B.ndim)\n",
    "print(\"Shape of tensor: \",B.shape)\n",
    "print(\"Elements along the 0 axis: \", B.shape[0])\n",
    "print(\"Elements along the last axis: \", B.shape[-1])\n",
    "print(\"Total number of elements in our tensor: \", tf.size(B).numpy())"
   ]
  },
  {
   "cell_type": "code",
   "execution_count": 25,
   "id": "285c19b4-b901-4aeb-b3f5-7cbb0dfd389e",
   "metadata": {
    "tags": []
   },
   "outputs": [
    {
     "data": {
      "text/plain": [
       "<tf.Tensor: shape=(2, 2), dtype=int64, numpy=\n",
       "array([[ 1,  2],\n",
       "       [ 9, 10]], dtype=int64)>"
      ]
     },
     "execution_count": 25,
     "metadata": {},
     "output_type": "execute_result"
    }
   ],
   "source": [
    "# indexing tensors\n",
    "B[:2, :2]"
   ]
  },
  {
   "cell_type": "code",
   "execution_count": 26,
   "id": "dd81b2ef-4768-4fe5-a80d-8c1f2ef78e31",
   "metadata": {
    "tags": []
   },
   "outputs": [
    {
     "data": {
      "text/plain": [
       "(TensorShape([2, 3]), 2)"
      ]
     },
     "execution_count": 26,
     "metadata": {},
     "output_type": "execute_result"
    }
   ],
   "source": [
    "#create a rank 2 tensor (2 dimensions)\n",
    "rank_2_tensor = tf.constant([[4,5,6],\n",
    "                             [7,8,9]])\n",
    "rank_2_tensor.shape, rank_2_tensor.ndim"
   ]
  },
  {
   "cell_type": "code",
   "execution_count": 27,
   "id": "2baf0077-95fe-4738-8308-7c565712eb36",
   "metadata": {
    "tags": []
   },
   "outputs": [
    {
     "data": {
      "text/plain": [
       "<tf.Tensor: shape=(2,), dtype=int32, numpy=array([6, 9])>"
      ]
     },
     "execution_count": 27,
     "metadata": {},
     "output_type": "execute_result"
    }
   ],
   "source": [
    "#accessing the last element\n",
    "rank_2_tensor[:, -1]"
   ]
  },
  {
   "cell_type": "code",
   "execution_count": 28,
   "id": "1afb685f-4358-4f22-be50-201ca246b91d",
   "metadata": {
    "tags": []
   },
   "outputs": [
    {
     "data": {
      "text/plain": [
       "<tf.Tensor: shape=(2, 3, 1), dtype=int32, numpy=\n",
       "array([[[4],\n",
       "        [5],\n",
       "        [6]],\n",
       "\n",
       "       [[7],\n",
       "        [8],\n",
       "        [9]]])>"
      ]
     },
     "execution_count": 28,
     "metadata": {},
     "output_type": "execute_result"
    }
   ],
   "source": [
    "#Add in extra dimension to our rank 2 tensor\n",
    "rank_3_tensor = rank_2_tensor[..., tf.newaxis]\n",
    "rank_3_tensor"
   ]
  },
  {
   "cell_type": "code",
   "execution_count": 29,
   "id": "90e13d15-e032-473d-88bb-7d7184377654",
   "metadata": {
    "tags": []
   },
   "outputs": [
    {
     "data": {
      "text/plain": [
       "<tf.Tensor: shape=(2, 3, 1), dtype=int32, numpy=\n",
       "array([[[4],\n",
       "        [5],\n",
       "        [6]],\n",
       "\n",
       "       [[7],\n",
       "        [8],\n",
       "        [9]]])>"
      ]
     },
     "execution_count": 29,
     "metadata": {},
     "output_type": "execute_result"
    }
   ],
   "source": [
    "#alternative to tf.newaxis\n",
    "tf.expand_dims(rank_2_tensor, axis = -1)  # -1 means expand the final axis"
   ]
  },
  {
   "cell_type": "code",
   "execution_count": 30,
   "id": "4b7421d2-8e2a-45b6-ae7f-0eede8ef8405",
   "metadata": {
    "tags": []
   },
   "outputs": [
    {
     "data": {
      "text/plain": [
       "<tf.Tensor: shape=(1, 2, 3), dtype=int32, numpy=\n",
       "array([[[4, 5, 6],\n",
       "        [7, 8, 9]]])>"
      ]
     },
     "execution_count": 30,
     "metadata": {},
     "output_type": "execute_result"
    }
   ],
   "source": [
    "#expand the 0-axis\n",
    "tf.expand_dims(rank_2_tensor,axis = 0) #expand the 0-axis"
   ]
  },
  {
   "cell_type": "code",
   "execution_count": 31,
   "id": "a50625ff-00be-405e-8cce-f72c18ee3108",
   "metadata": {
    "tags": []
   },
   "outputs": [
    {
     "data": {
      "text/plain": [
       "<tf.Tensor: shape=(2, 3), dtype=int32, numpy=\n",
       "array([[4, 5, 6],\n",
       "       [7, 8, 9]])>"
      ]
     },
     "execution_count": 31,
     "metadata": {},
     "output_type": "execute_result"
    }
   ],
   "source": [
    "rank_2_tensor"
   ]
  },
  {
   "cell_type": "markdown",
   "id": "186701ad-ed59-4387-ba18-9ccd39e64efe",
   "metadata": {},
   "source": [
    "<h3>Manipulating the tensor</h3>"
   ]
  },
  {
   "cell_type": "code",
   "execution_count": 32,
   "id": "5de5f2e7-625d-4868-bdd4-508019f2d02e",
   "metadata": {
    "tags": []
   },
   "outputs": [
    {
     "data": {
      "text/plain": [
       "<tf.Tensor: shape=(2, 2), dtype=int32, numpy=\n",
       "array([[30, 27],\n",
       "       [51, 33]])>"
      ]
     },
     "execution_count": 32,
     "metadata": {},
     "output_type": "execute_result"
    }
   ],
   "source": [
    "#manipulating tensor with basic operations\n",
    "\n",
    "#add values to a tensor using addition operator\n",
    "\n",
    "tensor = tf.constant([[20,17],\n",
    "                    [41,23]])\n",
    "tensor += 10\n",
    "tensor"
   ]
  },
  {
   "cell_type": "code",
   "execution_count": 33,
   "id": "26118a37-4cbe-4cdc-8af0-af1a8f1959dd",
   "metadata": {
    "tags": []
   },
   "outputs": [
    {
     "data": {
      "text/plain": [
       "<tf.Tensor: shape=(2, 2), dtype=int32, numpy=\n",
       "array([[20, 17],\n",
       "       [41, 23]])>"
      ]
     },
     "execution_count": 33,
     "metadata": {},
     "output_type": "execute_result"
    }
   ],
   "source": [
    "#subtraction\n",
    "tensor - 10"
   ]
  },
  {
   "cell_type": "code",
   "execution_count": 34,
   "id": "6f9fd7a2-f27c-44a9-94d7-93e210c23f98",
   "metadata": {
    "tags": []
   },
   "outputs": [
    {
     "data": {
      "text/plain": [
       "<tf.Tensor: shape=(2, 2), dtype=int32, numpy=\n",
       "array([[300, 270],\n",
       "       [510, 330]])>"
      ]
     },
     "execution_count": 34,
     "metadata": {},
     "output_type": "execute_result"
    }
   ],
   "source": [
    "#we can use the default function of tensorflow\n",
    "tf.multiply(tensor, 10)"
   ]
  },
  {
   "cell_type": "code",
   "execution_count": 35,
   "id": "4d16eecb-ce22-4268-8a49-de5d6aced507",
   "metadata": {
    "tags": []
   },
   "outputs": [
    {
     "data": {
      "text/plain": [
       "<tf.Tensor: shape=(2, 2), dtype=int32, numpy=\n",
       "array([[30, 27],\n",
       "       [51, 33]])>"
      ]
     },
     "execution_count": 35,
     "metadata": {},
     "output_type": "execute_result"
    }
   ],
   "source": [
    "tensor"
   ]
  },
  {
   "cell_type": "markdown",
   "id": "2abbddc0-9040-4106-8e39-353dfe92625b",
   "metadata": {},
   "source": [
    "<h3>Matrix Multiplication</h3>"
   ]
  },
  {
   "cell_type": "code",
   "execution_count": 36,
   "id": "495f745b-650a-4e44-aa21-9111f3bf5f64",
   "metadata": {
    "tags": []
   },
   "outputs": [
    {
     "data": {
      "text/plain": [
       "<tf.Tensor: shape=(2, 2), dtype=int32, numpy=\n",
       "array([[2277, 1701],\n",
       "       [3213, 2466]])>"
      ]
     },
     "execution_count": 36,
     "metadata": {},
     "output_type": "execute_result"
    }
   ],
   "source": [
    "#multiplying the tensor\n",
    "tf.matmul(tensor,tensor)"
   ]
  },
  {
   "cell_type": "code",
   "execution_count": 37,
   "id": "3e92048e-5596-487e-8228-4481ad04c760",
   "metadata": {
    "tags": []
   },
   "outputs": [
    {
     "data": {
      "text/plain": [
       "<tf.Tensor: shape=(3, 2), dtype=int32, numpy=\n",
       "array([[20, 59],\n",
       "       [34, 57],\n",
       "       [30, 60]])>"
      ]
     },
     "execution_count": 37,
     "metadata": {},
     "output_type": "execute_result"
    }
   ],
   "source": [
    "A_1 = tf.constant([[1,2,5],\n",
    "                   [7,2,1],\n",
    "                   [3,3,3]])\n",
    "A_2 = tf.constant([[3,5],\n",
    "                   [6,7],\n",
    "                   [1,8]])\n",
    "tf.matmul(A_1, A_2)"
   ]
  },
  {
   "cell_type": "code",
   "execution_count": 38,
   "id": "33ffeff0-739e-40d0-889a-c3ee548ecc1d",
   "metadata": {
    "tags": []
   },
   "outputs": [
    {
     "data": {
      "text/plain": [
       "<tf.Tensor: shape=(3, 2), dtype=int32, numpy=\n",
       "array([[20, 59],\n",
       "       [34, 57],\n",
       "       [30, 60]])>"
      ]
     },
     "execution_count": 38,
     "metadata": {},
     "output_type": "execute_result"
    }
   ],
   "source": [
    "#matrix multiplication with python operator @\n",
    "A_1 @ A_2"
   ]
  },
  {
   "cell_type": "code",
   "execution_count": 39,
   "id": "7eb4cb02-e15d-43fe-af90-ba9518aa3ed2",
   "metadata": {
    "tags": []
   },
   "outputs": [
    {
     "data": {
      "text/plain": [
       "(<tf.Tensor: shape=(3, 2), dtype=int32, numpy=\n",
       " array([[3, 5],\n",
       "        [6, 7],\n",
       "        [1, 8]])>,\n",
       " <tf.Tensor: shape=(2, 3), dtype=int32, numpy=\n",
       " array([[3, 6, 1],\n",
       "        [5, 7, 8]])>,\n",
       " <tf.Tensor: shape=(3, 2), dtype=int32, numpy=\n",
       " array([[3, 5],\n",
       "        [6, 7],\n",
       "        [1, 8]])>)"
      ]
     },
     "execution_count": 39,
     "metadata": {},
     "output_type": "execute_result"
    }
   ],
   "source": [
    "#transpose operation in tensorflow\n",
    "A_2, tf.transpose(A_2), tf.reshape(A_2, shape=(3,2))"
   ]
  },
  {
   "cell_type": "code",
   "execution_count": 40,
   "id": "71c483d7-8152-4979-8884-6aabe1c13fff",
   "metadata": {
    "tags": []
   },
   "outputs": [
    {
     "data": {
      "text/plain": [
       "<tf.Tensor: shape=(3, 2), dtype=int32, numpy=\n",
       "array([[48, 78],\n",
       "       [21, 48],\n",
       "       [24, 56]])>"
      ]
     },
     "execution_count": 40,
     "metadata": {},
     "output_type": "execute_result"
    }
   ],
   "source": [
    "tf.matmul(tf.transpose(A_1),A_2)"
   ]
  },
  {
   "cell_type": "code",
   "execution_count": 41,
   "id": "7297f946-8ec7-4fe3-888d-bf9ce80ff9a1",
   "metadata": {
    "tags": []
   },
   "outputs": [
    {
     "data": {
      "text/plain": [
       "<tf.Tensor: shape=(3, 2), dtype=int32, numpy=\n",
       "array([[20, 59],\n",
       "       [34, 57],\n",
       "       [30, 60]])>"
      ]
     },
     "execution_count": 41,
     "metadata": {},
     "output_type": "execute_result"
    }
   ],
   "source": [
    "tf.tensordot(A_1,A_2,axes = 1)"
   ]
  },
  {
   "cell_type": "markdown",
   "id": "f8f80333-d43d-4d5c-bc29-06873ea246c6",
   "metadata": {},
   "source": [
    "<h3>Changing the datatype of a tensor</h3>"
   ]
  },
  {
   "cell_type": "code",
   "execution_count": 42,
   "id": "2414b3e0-3b96-46a1-9f7c-d7080f10be7d",
   "metadata": {
    "tags": []
   },
   "outputs": [
    {
     "data": {
      "text/plain": [
       "tf.float32"
      ]
     },
     "execution_count": 42,
     "metadata": {},
     "output_type": "execute_result"
    }
   ],
   "source": [
    "#create a new tensor with default datatype (float32)\n",
    "B = tf.constant([1.7, 7.4])\n",
    "B.dtype"
   ]
  },
  {
   "cell_type": "code",
   "execution_count": 43,
   "id": "575fbf5e-50a7-49b8-acbf-ab11841cfa0a",
   "metadata": {
    "tags": []
   },
   "outputs": [
    {
     "data": {
      "text/plain": [
       "(<tf.Tensor: shape=(2,), dtype=float16, numpy=array([1.7, 7.4], dtype=float16)>,\n",
       " tf.float16)"
      ]
     },
     "execution_count": 43,
     "metadata": {},
     "output_type": "execute_result"
    }
   ],
   "source": [
    "#change from float32 to float16 (reduced precision)\n",
    "D = tf.cast(B, dtype=tf.float16)\n",
    "D,D.dtype"
   ]
  },
  {
   "cell_type": "code",
   "execution_count": 44,
   "id": "4b4b7e3a-cb25-4a55-adf1-923fd7590ac5",
   "metadata": {
    "tags": []
   },
   "outputs": [
    {
     "data": {
      "text/plain": [
       "<tf.Tensor: shape=(2,), dtype=float32, numpy=array([1.7001953, 7.3984375], dtype=float32)>"
      ]
     },
     "execution_count": 44,
     "metadata": {},
     "output_type": "execute_result"
    }
   ],
   "source": [
    "#change from float16 to float32\n",
    "E = tf.cast(D, dtype=tf.float32)\n",
    "E"
   ]
  },
  {
   "cell_type": "markdown",
   "id": "8eb7361c-13b4-4a84-a011-e9483a57337f",
   "metadata": {},
   "source": [
    "<h3>Aggregating tensor</h3>"
   ]
  },
  {
   "cell_type": "code",
   "execution_count": 45,
   "id": "e87b19bb-8240-40ae-93ac-60603f910970",
   "metadata": {
    "tags": []
   },
   "outputs": [
    {
     "data": {
      "text/plain": [
       "<tf.Tensor: shape=(2,), dtype=int32, numpy=array([ -7, -10])>"
      ]
     },
     "execution_count": 45,
     "metadata": {},
     "output_type": "execute_result"
    }
   ],
   "source": [
    "# aggregation tensors - condensing them from multiple values down to a smaller amount of values\n",
    "#Get the absolute values\n",
    "\n",
    "D = tf.constant([-7,-10])\n",
    "D"
   ]
  },
  {
   "cell_type": "code",
   "execution_count": 46,
   "id": "1dbf0eb9-1de4-4d1a-be35-cb0322a55e8c",
   "metadata": {
    "tags": []
   },
   "outputs": [
    {
     "data": {
      "text/plain": [
       "<tf.Tensor: shape=(2,), dtype=int32, numpy=array([ 7, 10])>"
      ]
     },
     "execution_count": 46,
     "metadata": {},
     "output_type": "execute_result"
    }
   ],
   "source": [
    "#Get the absolute values\n",
    "tf.abs(D)"
   ]
  },
  {
   "cell_type": "code",
   "execution_count": 47,
   "id": "7f6beb14-2408-4a7b-a870-a4d989922de9",
   "metadata": {
    "tags": []
   },
   "outputs": [
    {
     "data": {
      "text/plain": [
       "<tf.Tensor: shape=(4,), dtype=float32, numpy=array([5., 6., 2., 9.], dtype=float32)>"
      ]
     },
     "execution_count": 47,
     "metadata": {},
     "output_type": "execute_result"
    }
   ],
   "source": [
    "\n",
    "x = tf.constant([5., 6, 2, 9])\n",
    "y = tf.constant([-3.])\n",
    "#finding the maximum tensor\n",
    "\n",
    "tf.math.maximum(x,y)"
   ]
  },
  {
   "cell_type": "code",
   "execution_count": 48,
   "id": "d0415fdd-12ab-4395-a162-84a205c9d724",
   "metadata": {
    "tags": []
   },
   "outputs": [
    {
     "data": {
      "text/plain": [
       "<tf.Tensor: shape=(4,), dtype=float32, numpy=array([-3., -3., -3., -3.], dtype=float32)>"
      ]
     },
     "execution_count": 48,
     "metadata": {},
     "output_type": "execute_result"
    }
   ],
   "source": [
    "#finding the minimum tensor\n",
    "tf.math.minimum(x,y)"
   ]
  },
  {
   "cell_type": "code",
   "execution_count": 49,
   "id": "51ffebca-dac4-4041-80d1-2156f5f00583",
   "metadata": {
    "tags": []
   },
   "outputs": [
    {
     "data": {
      "text/plain": [
       "<tf.Tensor: shape=(), dtype=float32, numpy=5.5>"
      ]
     },
     "execution_count": 49,
     "metadata": {},
     "output_type": "execute_result"
    }
   ],
   "source": [
    "#finding the mean\n",
    "mean = tf.reduce_mean(x)\n",
    "mean"
   ]
  },
  {
   "cell_type": "code",
   "execution_count": 50,
   "id": "b3b51cf7-b293-41a5-ab24-eb89f9609d31",
   "metadata": {
    "tags": []
   },
   "outputs": [
    {
     "data": {
      "text/plain": [
       "<tf.Tensor: shape=(), dtype=float32, numpy=22.0>"
      ]
     },
     "execution_count": 50,
     "metadata": {},
     "output_type": "execute_result"
    }
   ],
   "source": [
    "#finding the sum\n",
    "tf.reduce_sum(x)"
   ]
  },
  {
   "cell_type": "code",
   "execution_count": 51,
   "id": "69c1ce04-b665-4039-8c73-35cc81a99fb6",
   "metadata": {
    "tags": []
   },
   "outputs": [
    {
     "name": "stdout",
     "output_type": "stream",
     "text": [
      "Variance: 6.25\n",
      "Standard Deviation: 2.5\n"
     ]
    }
   ],
   "source": [
    "#finding the standard deviation and variance of the tensor x\n",
    "\n",
    "# Calculate mean\n",
    "mean = tf.reduce_mean(x)\n",
    "\n",
    "# Calculate squared differences\n",
    "squared_diff = tf.square(x - mean)\n",
    "\n",
    "# Calculate variance\n",
    "variance = tf.reduce_mean(squared_diff)\n",
    "\n",
    "# Calculate standard deviation\n",
    "standard_deviation = tf.sqrt(variance)\n",
    "\n",
    "print(\"Variance:\", variance.numpy())\n",
    "print(\"Standard Deviation:\", standard_deviation.numpy())"
   ]
  },
  {
   "cell_type": "code",
   "execution_count": 52,
   "id": "9ad8cd86-11c1-4c9e-8b68-4f713e4c5a04",
   "metadata": {
    "tags": []
   },
   "outputs": [
    {
     "name": "stdout",
     "output_type": "stream",
     "text": [
      "WARNING:tensorflow:From C:\\Users\\gouar\\AppData\\Local\\Programs\\Python\\Python311\\Lib\\site-packages\\tensorflow_probability\\python\\internal\\backend\\numpy\\_utils.py:48: The name tf.logging.TaskLevelStatusMessage is deprecated. Please use tf.compat.v1.logging.TaskLevelStatusMessage instead.\n",
      "\n",
      "WARNING:tensorflow:From C:\\Users\\gouar\\AppData\\Local\\Programs\\Python\\Python311\\Lib\\site-packages\\tensorflow_probability\\python\\internal\\backend\\numpy\\_utils.py:48: The name tf.control_flow_v2_enabled is deprecated. Please use tf.compat.v1.control_flow_v2_enabled instead.\n",
      "\n"
     ]
    },
    {
     "data": {
      "text/plain": [
       "6.25"
      ]
     },
     "execution_count": 52,
     "metadata": {},
     "output_type": "execute_result"
    }
   ],
   "source": [
    "#another way of finding var and sd, we need to import tensorflow_probability\n",
    "#finding the variance\n",
    "import tensorflow_probability as tfp\n",
    "tfp.stats.variance(x).numpy()"
   ]
  },
  {
   "cell_type": "code",
   "execution_count": 53,
   "id": "310c6a0b-536b-4d3c-a227-bb4f50f4f4ee",
   "metadata": {
    "tags": []
   },
   "outputs": [
    {
     "data": {
      "text/plain": [
       "2.849121"
      ]
     },
     "execution_count": 53,
     "metadata": {},
     "output_type": "execute_result"
    }
   ],
   "source": [
    "#finding the standard deviation\n",
    "\n",
    "tf.math.reduce_std(E).numpy()"
   ]
  },
  {
   "cell_type": "markdown",
   "id": "3ede3312-1643-4ce9-9f3f-e32c4ae292d7",
   "metadata": {},
   "source": [
    "<h3>Finding the postional maximum and minimum</h3>"
   ]
  },
  {
   "cell_type": "code",
   "execution_count": 54,
   "id": "80c54424-cdf8-48b0-a0ac-9162782a9b1a",
   "metadata": {
    "tags": []
   },
   "outputs": [
    {
     "data": {
      "text/plain": [
       "<tf.Tensor: shape=(50,), dtype=float32, numpy=\n",
       "array([0.6645621 , 0.44100678, 0.3528825 , 0.46448255, 0.03366041,\n",
       "       0.68467236, 0.74011743, 0.8724445 , 0.22632635, 0.22319686,\n",
       "       0.3103881 , 0.7223358 , 0.13318717, 0.5480639 , 0.5746088 ,\n",
       "       0.8996835 , 0.00946367, 0.5212307 , 0.6345445 , 0.1993283 ,\n",
       "       0.72942245, 0.54583454, 0.10756552, 0.6767061 , 0.6602763 ,\n",
       "       0.33695042, 0.60141766, 0.21062577, 0.8527372 , 0.44062173,\n",
       "       0.9485276 , 0.23752594, 0.81179297, 0.5263394 , 0.494308  ,\n",
       "       0.21612847, 0.8457197 , 0.8718841 , 0.3083862 , 0.6868038 ,\n",
       "       0.23764038, 0.7817228 , 0.9671384 , 0.06870162, 0.79873943,\n",
       "       0.66028714, 0.5871513 , 0.16461694, 0.7381023 , 0.32054043],\n",
       "      dtype=float32)>"
      ]
     },
     "execution_count": 54,
     "metadata": {},
     "output_type": "execute_result"
    }
   ],
   "source": [
    "# create a new tensor for finding positional maximum and minimum\n",
    "tf.random.set_seed(42)\n",
    "F = tf.random.uniform(shape=[50])\n",
    "F"
   ]
  },
  {
   "cell_type": "code",
   "execution_count": 55,
   "id": "ffc22c6b-e256-48c5-8687-acba8d3dab58",
   "metadata": {
    "tags": []
   },
   "outputs": [
    {
     "data": {
      "text/plain": [
       "<tf.Tensor: shape=(), dtype=int64, numpy=42>"
      ]
     },
     "execution_count": 55,
     "metadata": {},
     "output_type": "execute_result"
    }
   ],
   "source": [
    "#find the positional maximum\n",
    "tf.argmax(F)"
   ]
  },
  {
   "cell_type": "code",
   "execution_count": 56,
   "id": "bb77e285-30eb-42fa-a776-f2783a409a7c",
   "metadata": {
    "tags": []
   },
   "outputs": [
    {
     "data": {
      "text/plain": [
       "<tf.Tensor: shape=(), dtype=float32, numpy=0.9671384>"
      ]
     },
     "execution_count": 56,
     "metadata": {},
     "output_type": "execute_result"
    }
   ],
   "source": [
    "#index on our largest value position\n",
    "\n",
    "F[tf.argmax(F)]"
   ]
  },
  {
   "cell_type": "code",
   "execution_count": 57,
   "id": "cab1eb3d-7e6f-42c0-990a-5671354bde2e",
   "metadata": {
    "tags": []
   },
   "outputs": [
    {
     "data": {
      "text/plain": [
       "<tf.Tensor: shape=(), dtype=int64, numpy=16>"
      ]
     },
     "execution_count": 57,
     "metadata": {},
     "output_type": "execute_result"
    }
   ],
   "source": [
    "#finding the positional minimum\n",
    "tf.argmin(F)"
   ]
  },
  {
   "cell_type": "code",
   "execution_count": 58,
   "id": "dc5995cf-5080-470c-919c-808760eec619",
   "metadata": {
    "tags": []
   },
   "outputs": [
    {
     "data": {
      "text/plain": [
       "<tf.Tensor: shape=(), dtype=float32, numpy=0.009463668>"
      ]
     },
     "execution_count": 58,
     "metadata": {},
     "output_type": "execute_result"
    }
   ],
   "source": [
    "F[tf.argmin(F)]"
   ]
  },
  {
   "cell_type": "markdown",
   "id": "c713a2a0-c7bd-4d84-a084-f2a47a779698",
   "metadata": {},
   "source": [
    "<h3>Squeezing a tensor(removing all  single dimension)</h3>"
   ]
  },
  {
   "cell_type": "code",
   "execution_count": 59,
   "id": "e387748f-e621-4860-9083-9169e33a1995",
   "metadata": {
    "tags": []
   },
   "outputs": [
    {
     "data": {
      "text/plain": [
       "<tf.Tensor: shape=(1, 1, 1, 1, 50), dtype=float32, numpy=\n",
       "array([[[[[0.6645621 , 0.44100678, 0.3528825 , 0.46448255, 0.03366041,\n",
       "           0.68467236, 0.74011743, 0.8724445 , 0.22632635, 0.22319686,\n",
       "           0.3103881 , 0.7223358 , 0.13318717, 0.5480639 , 0.5746088 ,\n",
       "           0.8996835 , 0.00946367, 0.5212307 , 0.6345445 , 0.1993283 ,\n",
       "           0.72942245, 0.54583454, 0.10756552, 0.6767061 , 0.6602763 ,\n",
       "           0.33695042, 0.60141766, 0.21062577, 0.8527372 , 0.44062173,\n",
       "           0.9485276 , 0.23752594, 0.81179297, 0.5263394 , 0.494308  ,\n",
       "           0.21612847, 0.8457197 , 0.8718841 , 0.3083862 , 0.6868038 ,\n",
       "           0.23764038, 0.7817228 , 0.9671384 , 0.06870162, 0.79873943,\n",
       "           0.66028714, 0.5871513 , 0.16461694, 0.7381023 , 0.32054043]]]]],\n",
       "      dtype=float32)>"
      ]
     },
     "execution_count": 59,
     "metadata": {},
     "output_type": "execute_result"
    }
   ],
   "source": [
    "#create a tensor to get started\n",
    "tf.random.set_seed(42)\n",
    "G = tf.constant(tf.random.uniform(shape=[50]), shape =(1,1,1,1,50))\n",
    "G"
   ]
  },
  {
   "cell_type": "code",
   "execution_count": 60,
   "id": "181187f0-6f2b-4d2b-a0b9-e1da68cec233",
   "metadata": {
    "tags": []
   },
   "outputs": [
    {
     "data": {
      "text/plain": [
       "TensorShape([1, 1, 1, 1, 50])"
      ]
     },
     "execution_count": 60,
     "metadata": {},
     "output_type": "execute_result"
    }
   ],
   "source": [
    "G.shape"
   ]
  },
  {
   "cell_type": "code",
   "execution_count": 62,
   "id": "57c5752e-8253-4f1f-bc1f-49bf0d5a0335",
   "metadata": {
    "tags": []
   },
   "outputs": [
    {
     "data": {
      "text/plain": [
       "(<tf.Tensor: shape=(50,), dtype=float32, numpy=\n",
       " array([0.6645621 , 0.44100678, 0.3528825 , 0.46448255, 0.03366041,\n",
       "        0.68467236, 0.74011743, 0.8724445 , 0.22632635, 0.22319686,\n",
       "        0.3103881 , 0.7223358 , 0.13318717, 0.5480639 , 0.5746088 ,\n",
       "        0.8996835 , 0.00946367, 0.5212307 , 0.6345445 , 0.1993283 ,\n",
       "        0.72942245, 0.54583454, 0.10756552, 0.6767061 , 0.6602763 ,\n",
       "        0.33695042, 0.60141766, 0.21062577, 0.8527372 , 0.44062173,\n",
       "        0.9485276 , 0.23752594, 0.81179297, 0.5263394 , 0.494308  ,\n",
       "        0.21612847, 0.8457197 , 0.8718841 , 0.3083862 , 0.6868038 ,\n",
       "        0.23764038, 0.7817228 , 0.9671384 , 0.06870162, 0.79873943,\n",
       "        0.66028714, 0.5871513 , 0.16461694, 0.7381023 , 0.32054043],\n",
       "       dtype=float32)>,\n",
       " TensorShape([50]))"
      ]
     },
     "execution_count": 62,
     "metadata": {},
     "output_type": "execute_result"
    }
   ],
   "source": [
    "G_squeezed = tf.squeeze(G)\n",
    "G_squeezed, G_squeezed.shape"
   ]
  },
  {
   "cell_type": "markdown",
   "id": "40121370-c78a-45f7-b63e-2389cbb80a3d",
   "metadata": {},
   "source": [
    "<h3>One hot encoding</h3>"
   ]
  },
  {
   "cell_type": "code",
   "execution_count": 63,
   "id": "6ce19312-4cee-4ff6-8c1c-3fa17e285f32",
   "metadata": {
    "tags": []
   },
   "outputs": [
    {
     "data": {
      "text/plain": [
       "<tf.Tensor: shape=(4, 4), dtype=float32, numpy=\n",
       "array([[1., 0., 0., 0.],\n",
       "       [0., 1., 0., 0.],\n",
       "       [0., 0., 1., 0.],\n",
       "       [0., 0., 0., 1.]], dtype=float32)>"
      ]
     },
     "execution_count": 63,
     "metadata": {},
     "output_type": "execute_result"
    }
   ],
   "source": [
    "#create a list of indices\n",
    "some_list = [0,1,2,3]\n",
    "\n",
    "#one hot encode our list of indices\n",
    "tf.one_hot(some_list, depth = 4)"
   ]
  },
  {
   "cell_type": "code",
   "execution_count": 64,
   "id": "3548ab53-2629-435a-8170-6c06da964ba3",
   "metadata": {
    "tags": []
   },
   "outputs": [
    {
     "data": {
      "text/plain": [
       "<tf.Tensor: shape=(4, 4), dtype=string, numpy=\n",
       "array([[b'yo I love deep learning', b'I also love to code',\n",
       "        b'I also love to code', b'I also love to code'],\n",
       "       [b'I also love to code', b'yo I love deep learning',\n",
       "        b'I also love to code', b'I also love to code'],\n",
       "       [b'I also love to code', b'I also love to code',\n",
       "        b'yo I love deep learning', b'I also love to code'],\n",
       "       [b'I also love to code', b'I also love to code',\n",
       "        b'I also love to code', b'yo I love deep learning']], dtype=object)>"
      ]
     },
     "execution_count": 64,
     "metadata": {},
     "output_type": "execute_result"
    }
   ],
   "source": [
    "#specify custom values for one hot encoding\n",
    "tf.one_hot(some_list, depth = 4, on_value=\"yo I love deep learning\",off_value = \"I also love to code\")"
   ]
  },
  {
   "cell_type": "code",
   "execution_count": 67,
   "id": "065153df-473e-4de0-b171-7c2ef7d504a8",
   "metadata": {
    "tags": []
   },
   "outputs": [
    {
     "data": {
      "text/plain": [
       "<tf.Tensor: shape=(4, 4), dtype=string, numpy=\n",
       "array([[b'love', b'pride', b'pride', b'pride'],\n",
       "       [b'pride', b'love', b'pride', b'pride'],\n",
       "       [b'pride', b'pride', b'love', b'pride'],\n",
       "       [b'pride', b'pride', b'pride', b'love']], dtype=object)>"
      ]
     },
     "execution_count": 67,
     "metadata": {},
     "output_type": "execute_result"
    }
   ],
   "source": [
    "indices = [5,6,7]\n",
    "tf.one_hot(some_list, depth = 4, on_value = \"love\", off_value = \"pride\")"
   ]
  },
  {
   "cell_type": "markdown",
   "id": "9880b527-2ac5-491f-9354-093dee1daff8",
   "metadata": {},
   "source": [
    "<h3>Squaring,log,square root</h3>"
   ]
  },
  {
   "cell_type": "code",
   "execution_count": 68,
   "id": "96cb6d9d-88ac-45cd-af54-b5572750bec1",
   "metadata": {
    "tags": []
   },
   "outputs": [
    {
     "data": {
      "text/plain": [
       "<tf.Tensor: shape=(9,), dtype=int32, numpy=array([1, 2, 3, 4, 5, 6, 7, 8, 9])>"
      ]
     },
     "execution_count": 68,
     "metadata": {},
     "output_type": "execute_result"
    }
   ],
   "source": [
    "#create a new tensor\n",
    "H = tf.range(1,10)\n",
    "H"
   ]
  },
  {
   "cell_type": "code",
   "execution_count": 70,
   "id": "695a3327-a7af-4767-81df-d1cfe20fdf6e",
   "metadata": {
    "tags": []
   },
   "outputs": [
    {
     "data": {
      "text/plain": [
       "<tf.Tensor: shape=(9,), dtype=int32, numpy=array([ 1,  4,  9, 16, 25, 36, 49, 64, 81])>"
      ]
     },
     "execution_count": 70,
     "metadata": {},
     "output_type": "execute_result"
    }
   ],
   "source": [
    "tf.square(H) #square H"
   ]
  },
  {
   "cell_type": "code",
   "execution_count": 73,
   "id": "170e76fb-fcd4-4745-b887-7b26f3facfe6",
   "metadata": {
    "tags": []
   },
   "outputs": [
    {
     "data": {
      "text/plain": [
       "<tf.Tensor: shape=(9,), dtype=float32, numpy=\n",
       "array([1.       , 1.4142135, 1.7320508, 2.       , 2.236068 , 2.4494898,\n",
       "       2.6457512, 2.828427 , 3.       ], dtype=float32)>"
      ]
     },
     "execution_count": 73,
     "metadata": {},
     "output_type": "execute_result"
    }
   ],
   "source": [
    "#find the square root\n",
    "tf.sqrt(tf.cast(H, dtype = tf.float32))"
   ]
  },
  {
   "cell_type": "code",
   "execution_count": 76,
   "id": "9aa41edb-261a-44bf-8337-6ba0cceb8755",
   "metadata": {
    "tags": []
   },
   "outputs": [
    {
     "data": {
      "text/plain": [
       "<tf.Tensor: shape=(9,), dtype=float32, numpy=\n",
       "array([0.       , 0.6931472, 1.0986123, 1.3862944, 1.609438 , 1.7917595,\n",
       "       1.9459102, 2.0794415, 2.1972246], dtype=float32)>"
      ]
     },
     "execution_count": 76,
     "metadata": {},
     "output_type": "execute_result"
    }
   ],
   "source": [
    "#find the log\n",
    "tf.math.log(tf.cast(H, dtype = tf.float32))"
   ]
  },
  {
   "cell_type": "markdown",
   "id": "cb7fc1c3-22fd-4e5d-8eac-0fb58c8e1b33",
   "metadata": {},
   "source": [
    "<h3>Tensors and NumPy</h3>"
   ]
  },
  {
   "cell_type": "code",
   "execution_count": 77,
   "id": "c1d5b311-29bc-4419-978c-e1cca9de2704",
   "metadata": {
    "tags": []
   },
   "outputs": [
    {
     "data": {
      "text/plain": [
       "<tf.Tensor: shape=(3,), dtype=float64, numpy=array([ 3.,  7., 10.])>"
      ]
     },
     "execution_count": 77,
     "metadata": {},
     "output_type": "execute_result"
    }
   ],
   "source": [
    "#create a tensor directly from a NumPy array\n",
    "J = tf.constant(np.array([3., 7., 10.]))\n",
    "J"
   ]
  },
  {
   "cell_type": "code",
   "execution_count": 78,
   "id": "981093b5-c5ea-4234-b075-b43cd455700c",
   "metadata": {
    "tags": []
   },
   "outputs": [
    {
     "data": {
      "text/plain": [
       "(array([ 3.,  7., 10.]), numpy.ndarray)"
      ]
     },
     "execution_count": 78,
     "metadata": {},
     "output_type": "execute_result"
    }
   ],
   "source": [
    "#convert our tensor back to a numpy array\n",
    "np.array(J), type(np.array(J))"
   ]
  }
 ],
 "metadata": {
  "kernelspec": {
   "display_name": "Python 3 (ipykernel)",
   "language": "python",
   "name": "python3"
  },
  "language_info": {
   "codemirror_mode": {
    "name": "ipython",
    "version": 3
   },
   "file_extension": ".py",
   "mimetype": "text/x-python",
   "name": "python",
   "nbconvert_exporter": "python",
   "pygments_lexer": "ipython3",
   "version": "3.11.4"
  }
 },
 "nbformat": 4,
 "nbformat_minor": 5
}
